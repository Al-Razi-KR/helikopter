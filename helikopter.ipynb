{
 "cells": [
  {
   "cell_type": "code",
   "execution_count": 3,
   "source": [
    "from IPython.display import clear_output\r\n",
    "import time"
   ],
   "outputs": [],
   "metadata": {}
  },
  {
   "cell_type": "code",
   "execution_count": 4,
   "source": [
    "x = \"00\"\r\n",
    "helicopter_text = \"╭╮╱╱╱╱╭╮╱╱╱╱╱╱╱╱╱╱╭╮\\n┃┃╱╱╱╱┃┃╱╱╱╱╱╱╱╱╱╭╯╰╮\\n┃╰━┳━━┫┃╭┳━━┳━━┳━┻╮╭╋━━┳━╮\\n┃╭╮┃┃━┫┃┣┫╭━┫╭╮┃╭╮┃┃┃┃━┫╭╯\\n┃┃┃┃┃━┫╰┫┃╰━┫╰╯┃╰╯┃╰┫┃━┫┃\\n╰╯╰┻━━┻━┻┻━━┻━━┫╭━┻━┻━━┻╯\\n╱╱╱╱╱╱╱╱╱╱╱╱╱╱╱┃┃\\n╱╱╱╱╱╱╱╱╱╱╱╱╱╱╱╰╯\"\r\n",
    "helicopter = \"───────00\\n─────0000\\n────n000\\n───^^0000\\n────^^0000\\n──────^^0000\\n────────^^0000\\n──────────^^0000───────\"+x+\"\\n────────────^^0000───────\"+x+\"\\n──────────────^^00000000───\"+x+\"\\n────────────────^000000000───\"+x+\"\\n─────────────────000000000000==00\\n──────────────────000000000000───\"+x+\"\\n───────────────────00000000000n────\"+x+\"\\n────────────────\\\\──000000000───0─────\"+x+\"\\n──────────────────\\\\─^000000────0───────\"+x+\"\\n────────────────────\\\\─^00000───0\\n──────────────────────\\\\─^0000n^\\n────────────────────────\\\\\\n──────────────────────────\\\\\""
   ],
   "outputs": [],
   "metadata": {}
  },
  {
   "cell_type": "code",
   "execution_count": 5,
   "source": [
    "helicopter_text_list = helicopter_text.split('\\n')\r\n",
    "helicopter_list = helicopter.split('\\n')"
   ],
   "outputs": [],
   "metadata": {}
  },
  {
   "cell_type": "code",
   "execution_count": 52,
   "source": [
    "for i in helicopter_text_list:\r\n",
    "    print(\"\\t\\t\"+i)\r\n",
    "for n, i in enumerate(helicopter_list):\r\n",
    "    print(n,i)"
   ],
   "outputs": [
    {
     "output_type": "stream",
     "name": "stdout",
     "text": [
      "\t\t╭╮╱╱╱╱╭╮╱╱╱╱╱╱╱╱╱╱╭╮\n",
      "\t\t┃┃╱╱╱╱┃┃╱╱╱╱╱╱╱╱╱╭╯╰╮\n",
      "\t\t┃╰━┳━━┫┃╭┳━━┳━━┳━┻╮╭╋━━┳━╮\n",
      "\t\t┃╭╮┃┃━┫┃┣┫╭━┫╭╮┃╭╮┃┃┃┃━┫╭╯\n",
      "\t\t┃┃┃┃┃━┫╰┫┃╰━┫╰╯┃╰╯┃╰┫┃━┫┃\n",
      "\t\t╰╯╰┻━━┻━┻┻━━┻━━┫╭━┻━┻━━┻╯\n",
      "\t\t╱╱╱╱╱╱╱╱╱╱╱╱╱╱╱┃┃\n",
      "\t\t╱╱╱╱╱╱╱╱╱╱╱╱╱╱╱╰╯\n",
      "0 ───────00\n",
      "1 ─────0000\n",
      "2 ────n000\n",
      "3 ───^^0000\n",
      "4 ────^^0000\n",
      "5 ──────^^0000\n",
      "6 ────────^^0000\n",
      "7 ──────────^^0000───────00\n",
      "8 ────────────^^0000───────00\n",
      "9 ──────────────^^00000000───00\n",
      "10 ────────────────^000000000───00\n",
      "11 ─────────────────000000000000==00\n",
      "12 ──────────────────000000000000───00\n",
      "13 ───────────────────00000000000n────00\n",
      "14 ────────────────\\──000000000───0─────00\n",
      "15 ──────────────────\\─^000000────0───────00\n",
      "16 ────────────────────\\─^00000───0\n",
      "17 ──────────────────────\\─^0000n^\n",
      "18 ────────────────────────\\\n",
      "19 ──────────────────────────\\\n"
     ]
    }
   ],
   "metadata": {}
  },
  {
   "cell_type": "code",
   "execution_count": 4,
   "source": [
    "from IPython.display import clear_output\r\n",
    "import time\r\n",
    "\r\n",
    "n = 0\r\n",
    "helicopter_text = \"╭╮╱╱╱╱╭╮╱╱╱╱╱╱╱╱╱╱╭╮\\n┃┃╱╱╱╱┃┃╱╱╱╱╱╱╱╱╱╭╯╰╮\\n┃╰━┳━━┫┃╭┳━━┳━━┳━┻╮╭╋━━┳━╮\\n┃╭╮┃┃━┫┃┣┫╭━┫╭╮┃╭╮┃┃┃┃━┫╭╯\\n┃┃┃┃┃━┫╰┫┃╰━┫╰╯┃╰╯┃╰┫┃━┫┃\\n╰╯╰┻━━┻━┻┻━━┻━━┫╭━┻━┻━━┻╯\\n╱╱╱╱╱╱╱╱╱╱╱╱╱╱╱┃┃\\n╱╱╱╱╱╱╱╱╱╱╱╱╱╱╱╰╯\"\r\n",
    "\r\n",
    "helicopter_text_list = helicopter_text.split('\\n')\r\n",
    "helicopter_list = helicopter.split('\\n')\r\n",
    "\r\n",
    "while True:\r\n",
    "    x = \"00\"\r\n",
    "    for i in helicopter_text_list:\r\n",
    "        print(\"\\t\\t\\t\\t\\t\\t\\t\\t\\t\\t\\t\"+i)\r\n",
    "    helicopter = \"       00\\n     0000\\n    n000\\n   ^^0000\\n    ^^0000\\n      ^^0000\\n        ^^0000\\n          ^^0000       \"+x+\"\\n           ^^000000      \"+x+\"\\n              ^^00000000   \"+x+\"\\n                ^000000000   \"+x+\"\\n                 000000000000==00\\n                  000000000000   \"+x+\"\\n                   00000000000n    \"+x+\"\\n                \\\\──000000000───0     \"+x+\"\\n                  \\\\─^000000────0       \"+x+\"\\n                    \\\\─^00000───0\\n                     \\\\─^0000n^\\n                       \\\\\\n                         \\\\\"\r\n",
    "    helicopter_list = helicopter.split('\\n')\r\n",
    "    for i in helicopter_list: \r\n",
    "        print(\" \"*n+i)\r\n",
    "    time.sleep(0.1)\r\n",
    "    clear_output(wait=True)\r\n",
    "    x = \"**\"\r\n",
    "    for i in helicopter_text_list:\r\n",
    "        print(\"\\t\\t\\t\\t\\t\\t\\t\\t\\t\\t\\t\"+i)\r\n",
    "    helicopter = \"       00\\n     0000\\n    n000\\n   ^^0000\\n    ^^0000\\n      ^^0000\\n        ^^0000\\n          ^^0000       \"+x+\"\\n           ^^000000      \"+x+\"\\n              ^^00000000   \"+x+\"\\n                ^000000000   \"+x+\"\\n                 000000000000==00\\n                  000000000000   \"+x+\"\\n                   00000000000n    \"+x+\"\\n                \\\\──000000000───0     \"+x+\"\\n                  \\\\─^000000────0       \"+x+\"\\n                    \\\\─^00000───0\\n                     \\\\─^0000n^\\n                       \\\\\\n                         \\\\\"\r\n",
    "    helicopter_list = helicopter.split('\\n')\r\n",
    "    for i in helicopter_list:\r\n",
    "        print(\" \"*n+i)\r\n",
    "    time.sleep(0.1)\r\n",
    "    clear_output(wait=True)\r\n",
    "    n += 1"
   ],
   "outputs": [
    {
     "output_type": "stream",
     "name": "stdout",
     "text": [
      "\t\t\t\t\t\t\t\t\t\t\t╭╮╱╱╱╱╭╮╱╱╱╱╱╱╱╱╱╱╭╮\n",
      "\t\t\t\t\t\t\t\t\t\t\t┃┃╱╱╱╱┃┃╱╱╱╱╱╱╱╱╱╭╯╰╮\n",
      "\t\t\t\t\t\t\t\t\t\t\t┃╰━┳━━┫┃╭┳━━┳━━┳━┻╮╭╋━━┳━╮\n",
      "\t\t\t\t\t\t\t\t\t\t\t┃╭╮┃┃━┫┃┣┫╭━┫╭╮┃╭╮┃┃┃┃━┫╭╯\n",
      "\t\t\t\t\t\t\t\t\t\t\t┃┃┃┃┃━┫╰┫┃╰━┫╰╯┃╰╯┃╰┫┃━┫┃\n",
      "\t\t\t\t\t\t\t\t\t\t\t╰╯╰┻━━┻━┻┻━━┻━━┫╭━┻━┻━━┻╯\n",
      "\t\t\t\t\t\t\t\t\t\t\t╱╱╱╱╱╱╱╱╱╱╱╱╱╱╱┃┃\n",
      "\t\t\t\t\t\t\t\t\t\t\t╱╱╱╱╱╱╱╱╱╱╱╱╱╱╱╰╯\n",
      "                      00\n",
      "                    0000\n",
      "                   n000\n",
      "                  ^^0000\n",
      "                   ^^0000\n",
      "                     ^^0000\n",
      "                       ^^0000\n",
      "                         ^^0000       **\n",
      "                          ^^000000      **\n",
      "                             ^^00000000   **\n",
      "                               ^000000000   **\n",
      "                                000000000000==00\n",
      "                                 000000000000   **\n",
      "                                  00000000000n    **\n",
      "                               \\──000000000───0     **\n",
      "                                 \\─^000000────0       **\n",
      "                                   \\─^00000───0\n",
      "                                    \\─^0000n^\n",
      "                                      \\\n",
      "                                        \\\n"
     ]
    },
    {
     "output_type": "error",
     "ename": "KeyboardInterrupt",
     "evalue": "",
     "traceback": [
      "\u001b[1;31m---------------------------------------------------------------------------\u001b[0m",
      "\u001b[1;31mKeyboardInterrupt\u001b[0m                         Traceback (most recent call last)",
      "\u001b[1;32m~\\AppData\\Local\\Temp/ipykernel_19548/1177859481.py\u001b[0m in \u001b[0;36m<module>\u001b[1;34m\u001b[0m\n\u001b[0;32m     25\u001b[0m     \u001b[1;32mfor\u001b[0m \u001b[0mi\u001b[0m \u001b[1;32min\u001b[0m \u001b[0mhelicopter_list\u001b[0m\u001b[1;33m:\u001b[0m\u001b[1;33m\u001b[0m\u001b[1;33m\u001b[0m\u001b[0m\n\u001b[0;32m     26\u001b[0m         \u001b[0mprint\u001b[0m\u001b[1;33m(\u001b[0m\u001b[1;34m\" \"\u001b[0m\u001b[1;33m*\u001b[0m\u001b[0mn\u001b[0m\u001b[1;33m+\u001b[0m\u001b[0mi\u001b[0m\u001b[1;33m)\u001b[0m\u001b[1;33m\u001b[0m\u001b[1;33m\u001b[0m\u001b[0m\n\u001b[1;32m---> 27\u001b[1;33m     \u001b[0mtime\u001b[0m\u001b[1;33m.\u001b[0m\u001b[0msleep\u001b[0m\u001b[1;33m(\u001b[0m\u001b[1;36m0.1\u001b[0m\u001b[1;33m)\u001b[0m\u001b[1;33m\u001b[0m\u001b[1;33m\u001b[0m\u001b[0m\n\u001b[0m\u001b[0;32m     28\u001b[0m     \u001b[0mclear_output\u001b[0m\u001b[1;33m(\u001b[0m\u001b[0mwait\u001b[0m\u001b[1;33m=\u001b[0m\u001b[1;32mTrue\u001b[0m\u001b[1;33m)\u001b[0m\u001b[1;33m\u001b[0m\u001b[1;33m\u001b[0m\u001b[0m\n\u001b[0;32m     29\u001b[0m     \u001b[0mn\u001b[0m \u001b[1;33m+=\u001b[0m \u001b[1;36m1\u001b[0m\u001b[1;33m\u001b[0m\u001b[1;33m\u001b[0m\u001b[0m\n",
      "\u001b[1;31mKeyboardInterrupt\u001b[0m: "
     ]
    }
   ],
   "metadata": {}
  },
  {
   "cell_type": "code",
   "execution_count": null,
   "source": [],
   "outputs": [],
   "metadata": {}
  },
  {
   "cell_type": "code",
   "execution_count": null,
   "source": [],
   "outputs": [],
   "metadata": {}
  },
  {
   "cell_type": "code",
   "execution_count": null,
   "source": [],
   "outputs": [],
   "metadata": {}
  },
  {
   "cell_type": "code",
   "execution_count": null,
   "source": [],
   "outputs": [],
   "metadata": {}
  },
  {
   "cell_type": "code",
   "execution_count": null,
   "source": [],
   "outputs": [],
   "metadata": {}
  },
  {
   "cell_type": "code",
   "execution_count": null,
   "source": [],
   "outputs": [],
   "metadata": {}
  },
  {
   "cell_type": "code",
   "execution_count": null,
   "source": [
    "n = 0\r\n",
    "while True:\r\n",
    "    x = \"00\"\r\n",
    "    for i in helicopter_text_list:\r\n",
    "        print(\"\\t\\t\\t\\t\\t\\t\\t\\t\\t\\t\"+i)\r\n",
    "    helicopter = \"       00\\n     0000\\n    n000\\n   ^^0000\\n    ^^0000\\n      ^^0000\\n        ^^0000\\n          ^^0000       \"+x+\"\\n           ^^000000      \"+x+\"\\n              ^^00000000   \"+x+\"\\n                ^000000000   \"+x+\"\\n                 000000000000==00\\n                  000000000000   \"+x+\"\\n                   00000000000n    \"+x+\"\\n                \\\\──000000000───0     \"+x+\"\\n                  \\\\─^000000────0       \"+x+\"\\n                    \\\\─^00000───0\\n                     \\\\─^0000n^\\n                       \\\\\\n                         \\\\\"\r\n",
    "    helicopter_list = helicopter.split('\\n')\r\n",
    "    for i in helicopter_list: \r\n",
    "        print(\" \"*n+i)\r\n",
    "    time.sleep(0.1)\r\n",
    "    clear_output(wait=True)\r\n",
    "    x = \"**\"\r\n",
    "    for i in helicopter_text_list:\r\n",
    "        print(\"\\t\\t\\t\\t\\t\\t\\t\\t\\t\\t\\t\"+i)\r\n",
    "    helicopter = \"       00\\n     0000\\n    n000\\n   ^^0000\\n    ^^0000\\n      ^^0000\\n        ^^0000\\n          ^^0000       \"+x+\"\\n           ^^000000      \"+x+\"\\n              ^^00000000   \"+x+\"\\n                ^000000000   \"+x+\"\\n                 000000000000==00\\n                  000000000000   \"+x+\"\\n                   00000000000n    \"+x+\"\\n                \\\\──000000000───0     \"+x+\"\\n                  \\\\─^000000────0       \"+x+\"\\n                    \\\\─^00000───0\\n                     \\\\─^0000n^\\n                       \\\\\\n                         \\\\\"\r\n",
    "    helicopter_list = helicopter.split('\\n')\r\n",
    "    for i in helicopter_list:\r\n",
    "        print(\" \"*n+i)\r\n",
    "    time.sleep(0.1)\r\n",
    "    clear_output(wait=True)\r\n",
    "    n += 1"
   ],
   "outputs": [],
   "metadata": {}
  }
 ],
 "metadata": {
  "orig_nbformat": 4,
  "language_info": {
   "name": "python",
   "version": "3.9.9",
   "mimetype": "text/x-python",
   "codemirror_mode": {
    "name": "ipython",
    "version": 3
   },
   "pygments_lexer": "ipython3",
   "nbconvert_exporter": "python",
   "file_extension": ".py"
  },
  "kernelspec": {
   "name": "python3",
   "display_name": "Python 3.9.9 64-bit (windows store)"
  },
  "interpreter": {
   "hash": "b5bfaac86f144ab0d8fa45ab591a59b7640aabe84dd2d983422df16bde1a4967"
  }
 },
 "nbformat": 4,
 "nbformat_minor": 2
}